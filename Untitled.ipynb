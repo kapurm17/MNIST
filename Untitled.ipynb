{
 "cells": [
  {
   "cell_type": "code",
   "execution_count": 1,
   "metadata": {},
   "outputs": [],
   "source": [
    "import scipy.io \n",
    "import pandas as pd\n",
    "import matplotlib.pyplot as plt\n",
    "import numpy as np\n",
    "import pandas as pd\n",
    "np.random.seed(0)"
   ]
  },
  {
   "cell_type": "code",
   "execution_count": null,
   "metadata": {},
   "outputs": [],
   "source": []
  },
  {
   "cell_type": "code",
   "execution_count": 2,
   "metadata": {},
   "outputs": [],
   "source": [
    "data = scipy.io.loadmat('ex4data1.mat')"
   ]
  },
  {
   "cell_type": "code",
   "execution_count": 3,
   "metadata": {},
   "outputs": [
    {
     "data": {
      "text/plain": [
       "{'__header__': b'MATLAB 5.0 MAT-file, Platform: GLNXA64, Created on: Sun Oct 16 13:09:09 2011',\n",
       " '__version__': '1.0',\n",
       " '__globals__': [],\n",
       " 'X': array([[0., 0., 0., ..., 0., 0., 0.],\n",
       "        [0., 0., 0., ..., 0., 0., 0.],\n",
       "        [0., 0., 0., ..., 0., 0., 0.],\n",
       "        ...,\n",
       "        [0., 0., 0., ..., 0., 0., 0.],\n",
       "        [0., 0., 0., ..., 0., 0., 0.],\n",
       "        [0., 0., 0., ..., 0., 0., 0.]]),\n",
       " 'y': array([[10],\n",
       "        [10],\n",
       "        [10],\n",
       "        ...,\n",
       "        [ 9],\n",
       "        [ 9],\n",
       "        [ 9]], dtype=uint8)}"
      ]
     },
     "execution_count": 3,
     "metadata": {},
     "output_type": "execute_result"
    }
   ],
   "source": [
    "data"
   ]
  },
  {
   "cell_type": "code",
   "execution_count": 4,
   "metadata": {},
   "outputs": [],
   "source": [
    "#Seperting features and labels\n",
    "X = data['X']\n",
    "Y = data['y']"
   ]
  },
  {
   "cell_type": "code",
   "execution_count": 5,
   "metadata": {},
   "outputs": [
    {
     "name": "stdout",
     "output_type": "stream",
     "text": [
      "5000\n",
      "(5000, 400)\n"
     ]
    }
   ],
   "source": [
    "m = len(X)\n",
    "print(m)\n",
    "print(X.shape)"
   ]
  },
  {
   "cell_type": "code",
   "execution_count": 6,
   "metadata": {},
   "outputs": [
    {
     "data": {
      "text/plain": [
       "5000"
      ]
     },
     "execution_count": 6,
     "metadata": {},
     "output_type": "execute_result"
    }
   ],
   "source": [
    "len(Y)"
   ]
  },
  {
   "cell_type": "code",
   "execution_count": null,
   "metadata": {},
   "outputs": [],
   "source": []
  },
  {
   "cell_type": "code",
   "execution_count": 7,
   "metadata": {},
   "outputs": [],
   "source": [
    "for i in range(len(Y)):\n",
    "    if Y[i] == 10:\n",
    "        Y[i] = 0 "
   ]
  },
  {
   "cell_type": "code",
   "execution_count": 8,
   "metadata": {},
   "outputs": [
    {
     "data": {
      "text/plain": [
       "(5000, 10)"
      ]
     },
     "execution_count": 8,
     "metadata": {},
     "output_type": "execute_result"
    }
   ],
   "source": [
    "Y_vec = np.identity(10)[list(Y)]\n",
    "Y_vec= Y_vec.reshape(5000, 10)\n",
    "Y_vec.shape"
   ]
  },
  {
   "cell_type": "code",
   "execution_count": 9,
   "metadata": {},
   "outputs": [
    {
     "data": {
      "text/plain": [
       "<matplotlib.image.AxesImage at 0x1d6e5f93470>"
      ]
     },
     "execution_count": 9,
     "metadata": {},
     "output_type": "execute_result"
    },
    {
     "data": {
      "image/png": "[encoded data removed]",
      "text/plain": [
       "<Figure size 432x288 with 1 Axes>"
      ]
     },
     "metadata": {
      "needs_background": "light"
     },
     "output_type": "display_data"
    }
   ],
   "source": [
    "plt.imshow(X[2000].reshape(20,20).T)"
   ]
  },
  {
   "cell_type": "code",
   "execution_count": 10,
   "metadata": {},
   "outputs": [
    {
     "name": "stdout",
     "output_type": "stream",
     "text": [
      "[0. 0. 0. 0. 1. 0. 0. 0. 0. 0.]\n",
      "[4]\n",
      "4\n"
     ]
    }
   ],
   "source": [
    "print(Y_vec[2000])\n",
    "print(Y[2000])\n",
    "print(Y_vec[2000].argmax())"
   ]
  },
  {
   "cell_type": "code",
   "execution_count": 11,
   "metadata": {},
   "outputs": [
    {
     "data": {
      "text/plain": [
       "<matplotlib.image.AxesImage at 0x1d6e86000f0>"
      ]
     },
     "execution_count": 11,
     "metadata": {},
     "output_type": "execute_result"
    },
    {
     "data": {
      "image/png": "[encoded data removed]",
      "text/plain": [
       "<Figure size 432x288 with 1 Axes>"
      ]
     },
     "metadata": {
      "needs_background": "light"
     },
     "output_type": "display_data"
    }
   ],
   "source": [
    "plt.imshow(X[100].reshape(20,20).T)"
   ]
  },
  {
   "cell_type": "code",
   "execution_count": 12,
   "metadata": {},
   "outputs": [
    {
     "data": {
      "text/plain": [
       "array([1., 0., 0., 0., 0., 0., 0., 0., 0., 0.])"
      ]
     },
     "execution_count": 12,
     "metadata": {},
     "output_type": "execute_result"
    }
   ],
   "source": [
    "Y_vec[100]"
   ]
  },
  {
   "cell_type": "code",
   "execution_count": 13,
   "metadata": {},
   "outputs": [],
   "source": [
    "def sigmoid(x):\n",
    "    '''\n",
    "    Sigmoid Activation Function\n",
    "    '''\n",
    "    return 1/(1+ np.exp(-x))"
   ]
  },
  {
   "cell_type": "code",
   "execution_count": null,
   "metadata": {},
   "outputs": [],
   "source": []
  },
  {
   "cell_type": "markdown",
   "metadata": {},
   "source": [
    "### Neural Network\n",
    "#### Steps Of building a neural nework:\n",
    "1. Randomly initialize parameter theta.\n",
    "2. Perform forward propogation.\n",
    "3. Compute cost function.\n",
    "4. Implement Backpropogation to obtain gradient.\n",
    "5. Update theta.\n",
    "5. Repeat."
   ]
  },
  {
   "cell_type": "code",
   "execution_count": 41,
   "metadata": {},
   "outputs": [],
   "source": [
    "#Initialising theta\n",
    "#theta = scipy.io.loadmat('ex3weights.mat')\n",
    "def init_param():\n",
    "    '''\n",
    "    \n",
    "    '''\n",
    "    theta1 = np.random.randn(25, 401) * 0.01\n",
    "    theta2 = np.random.randn(10, 26) * 0.01\n",
    "    param = {'T1': theta1, 'T2': theta2}\n",
    "    return param\n",
    "\n",
    "parameters = init_param()"
   ]
  },
  {
   "cell_type": "code",
   "execution_count": null,
   "metadata": {},
   "outputs": [],
   "source": []
  },
  {
   "cell_type": "code",
   "execution_count": 42,
   "metadata": {},
   "outputs": [],
   "source": [
    "def add_bias(arr, size):\n",
    "    '''\n",
    "    Adds a BIAS unit to the array 'arr' with size = 'size'\n",
    "    '''\n",
    "    ones = np.ones((size,1))\n",
    "    new = np.concatenate((ones, arr), axis=1)\n",
    "    return new"
   ]
  },
  {
   "cell_type": "code",
   "execution_count": 43,
   "metadata": {},
   "outputs": [
    {
     "name": "stdout",
     "output_type": "stream",
     "text": [
      "[[1. 0. 0. ... 0. 0. 0.]\n",
      " [1. 0. 0. ... 0. 0. 0.]\n",
      " [1. 0. 0. ... 0. 0. 0.]\n",
      " ...\n",
      " [1. 0. 0. ... 0. 0. 0.]\n",
      " [1. 0. 0. ... 0. 0. 0.]\n",
      " [1. 0. 0. ... 0. 0. 0.]]\n"
     ]
    }
   ],
   "source": [
    "print(add_bias(X, m))"
   ]
  },
  {
   "cell_type": "code",
   "execution_count": 44,
   "metadata": {},
   "outputs": [
    {
     "ename": "NameError",
     "evalue": "name 'theta2' is not defined",
     "output_type": "error",
     "traceback": [
      "\u001b[1;31m---------------------------------------------------------------------------\u001b[0m",
      "\u001b[1;31mNameError\u001b[0m                                 Traceback (most recent call last)",
      "\u001b[1;32m<ipython-input-44-8ac7cc9f873e>\u001b[0m in \u001b[0;36m<module>\u001b[1;34m\u001b[0m\n\u001b[1;32m----> 1\u001b[1;33m \u001b[0mtheta2\u001b[0m\u001b[1;33m\u001b[0m\u001b[1;33m\u001b[0m\u001b[0m\n\u001b[0m",
      "\u001b[1;31mNameError\u001b[0m: name 'theta2' is not defined"
     ]
    }
   ],
   "source": [
    "theta2"
   ]
  },
  {
   "cell_type": "code",
   "execution_count": 45,
   "metadata": {},
   "outputs": [
    {
     "data": {
      "text/plain": [
       "(10, 26)"
      ]
     },
     "execution_count": 45,
     "metadata": {},
     "output_type": "execute_result"
    }
   ],
   "source": [
    "parameters['T2'].shape"
   ]
  },
  {
   "cell_type": "code",
   "execution_count": 46,
   "metadata": {},
   "outputs": [
    {
     "data": {
      "text/plain": [
       "(25, 401)"
      ]
     },
     "execution_count": 46,
     "metadata": {},
     "output_type": "execute_result"
    }
   ],
   "source": [
    "parameters['T1'].shape"
   ]
  },
  {
   "cell_type": "code",
   "execution_count": 47,
   "metadata": {},
   "outputs": [],
   "source": [
    "def fwd_prop(X, param):\n",
    "    '''\n",
    "        Implementing forward propogation\n",
    "    '''\n",
    "    theta1= param['T1']\n",
    "    theta2= param['T2']\n",
    "    X_b = add_bias(X, len(X))\n",
    "    hx1 = (np.dot(X_b, theta1.T))\n",
    "    act1 = sigmoid(hx1)\n",
    "    act1_b = add_bias(act1, len(act1))\n",
    "    hx2 = np.dot(act1_b, theta2.T)\n",
    "    hx = sigmoid(hx2)\n",
    "    act = {'l1': act1_b, 'l2':hx }\n",
    "    return hx, act\n",
    "\n",
    "y_hat, act = fwd_prop(X, parameters)"
   ]
  },
  {
   "cell_type": "code",
   "execution_count": 48,
   "metadata": {},
   "outputs": [],
   "source": [
    "def prediction(X, param, Y):\n",
    "    '''\n",
    "        Retruns the predicted number along with the accuracy.\n",
    "        Args: X -> feature matrix\n",
    "              theta1 -> parameter vec 1\n",
    "              theta2 -> parameter vec 2\n",
    "              Y -> output vector\n",
    "        Output: array of predictions, accuracy\n",
    "    '''\n",
    "    theta1= param['T1']\n",
    "    theta2= param['T2']\n",
    "    n, act = fwd_prop(X, param)\n",
    "    pred = n.argmax(axis=1)\n",
    "    ar = pred.reshape((len(X), 1))\n",
    "    return ar, np.sum(ar == Y) * 100/5000\n"
   ]
  },
  {
   "cell_type": "code",
   "execution_count": 49,
   "metadata": {},
   "outputs": [],
   "source": [
    "pred, accuracy = prediction(X, parameters, Y)"
   ]
  },
  {
   "cell_type": "code",
   "execution_count": 50,
   "metadata": {},
   "outputs": [
    {
     "data": {
      "text/plain": [
       "10.0"
      ]
     },
     "execution_count": 50,
     "metadata": {},
     "output_type": "execute_result"
    }
   ],
   "source": [
    "accuracy"
   ]
  },
  {
   "cell_type": "code",
   "execution_count": 51,
   "metadata": {},
   "outputs": [],
   "source": [
    "def cost_func(X, Y_vec, y_hat, param, lamb =0):\n",
    "    '''\n",
    "        Calcuates the log loss function\n",
    "    '''\n",
    "    m = len(X)\n",
    "    h1 = np.log(y_hat)\n",
    "    h2 = np.log(1-y_hat)\n",
    "    J = -np.sum(np.sum((Y_vec * h1)+ ((1-Y_vec) * h2)))/(m*2)\n",
    "    \n",
    "    reg = lamb* (np.sum(param['T1'][:][1:]) + np.sum(param['T2'][:][1:]))/(m*2)\n",
    "    J = J + reg\n",
    "    return J\n",
    "    "
   ]
  },
  {
   "cell_type": "code",
   "execution_count": 52,
   "metadata": {},
   "outputs": [
    {
     "data": {
      "text/plain": [
       "3.456254678842962"
      ]
     },
     "execution_count": 52,
     "metadata": {},
     "output_type": "execute_result"
    }
   ],
   "source": [
    "cost_func(X, Y_vec, y_hat, parameters)"
   ]
  },
  {
   "cell_type": "code",
   "execution_count": 53,
   "metadata": {},
   "outputs": [
    {
     "data": {
      "text/plain": [
       "(5000, 10)"
      ]
     },
     "execution_count": 53,
     "metadata": {},
     "output_type": "execute_result"
    }
   ],
   "source": [
    "Y_vec.shape"
   ]
  },
  {
   "cell_type": "code",
   "execution_count": null,
   "metadata": {},
   "outputs": [],
   "source": []
  },
  {
   "cell_type": "code",
   "execution_count": null,
   "metadata": {},
   "outputs": [],
   "source": []
  },
  {
   "cell_type": "code",
   "execution_count": 54,
   "metadata": {},
   "outputs": [],
   "source": [
    "def back_prop(param, X, Y_vec, act, lamb = 0):\n",
    "    '''\n",
    "    Implements Backward propogation using gradient descent\n",
    "    Args:\n",
    "        param ->\n",
    "        X ->\n",
    "        Y ->\n",
    "    '''\n",
    "    m = len(X)\n",
    "    theta1= param['T1']\n",
    "    theta2= param['T2']\n",
    "    D1 = np.zeros(theta1.shape)\n",
    "    D2 = np.zeros(theta2.shape)\n",
    "    X_b = add_bias(X, m)\n",
    "    theta1_grad = np.zeros(theta1.shape)\n",
    "    theta2_grad = np.zeros(theta2.shape)\n",
    "    for i in range(0, m):\n",
    "        del2= act['l2'][i]-Y_vec[i]\n",
    "        del1= np.dot(del2, theta2) * (act['l1'][i]*(1-act['l1'][i]))\n",
    "        \n",
    "        D2 = D2 + np.dot(del2.T, act['l2'][i])\n",
    "        D1 = D1 + np.dot(del1.T, act['l1'][i])\n",
    "    theta1_grad[:][1:] = D1[:][1:]/m + lamb* theta1[:][1:]\n",
    "    theta2_grad[:][1:] = D2[:][1:]/m + lamb* theta2[:][1:]\n",
    "    theta1_grad[:][0] = D1[:][0]/m\n",
    "    theta2_grad[:][0] = D2[:][0]/m\n",
    "    grad = {'grad_1': theta1_grad, 'grad_2': theta2_grad}\n",
    "    return grad\n",
    "\n",
    "grad_val = back_prop(parameters, X, Y_vec, act)"
   ]
  },
  {
   "cell_type": "code",
   "execution_count": 55,
   "metadata": {},
   "outputs": [
    {
     "data": {
      "text/plain": [
       "{'T1': array([[ 5.84837021e-03,  9.74274388e-03, -5.94809560e-03, ...,\n",
       "          3.60137277e-03,  2.74134600e-04,  1.14623612e-02],\n",
       "        [ 1.64078763e-02,  1.06856297e-03,  1.19370044e-02, ...,\n",
       "          1.18986906e-03, -2.27605115e-04,  2.53948886e-03],\n",
       "        [-1.57044877e-03, -6.00508066e-03, -1.35533630e-03, ...,\n",
       "         -1.15112551e-02,  7.39080481e-03,  1.27678892e-02],\n",
       "        ...,\n",
       "        [ 3.01364480e-03,  7.48815868e-03,  2.18867570e-02, ...,\n",
       "          2.30787251e-03,  4.96316550e-03, -1.00352446e-02],\n",
       "        [ 2.89169272e-05, -8.90533280e-03,  1.99804588e-03, ...,\n",
       "         -1.98898537e-02, -5.04766856e-03, -1.05278321e-02],\n",
       "        [-1.38738721e-02, -8.58748893e-03,  1.82246405e-02, ...,\n",
       "          2.12431258e-02,  1.02224515e-02, -2.47249152e-03]]),\n",
       " 'T2': array([[-3.52471742e-02, -1.18061862e-02, -1.55088185e-02,\n",
       "         -3.09610343e-02, -2.54914422e-02, -2.97523465e-02,\n",
       "         -1.35610155e-02,  9.18466895e-04, -1.63285807e-02,\n",
       "         -1.16595804e-02,  4.64182720e-03, -1.19151439e-02,\n",
       "         -6.48922217e-03, -2.24818121e-02, -1.47444811e-02,\n",
       "         -1.54455490e-02, -1.64683294e-02, -9.20068968e-03,\n",
       "         -2.39373902e-02,  5.86497590e-03, -2.51272248e-06,\n",
       "         -1.72152333e-03, -1.90772017e-02, -3.29012362e-03,\n",
       "         -5.53832161e-03, -2.08102435e-02],\n",
       "        [ 6.40764359e-03, -1.17764516e-02,  1.02827670e-02,\n",
       "         -8.15583560e-04, -1.76648946e-02, -4.30958265e-03,\n",
       "         -7.38971495e-04, -3.67414751e-03, -1.00600982e-02,\n",
       "         -8.61647964e-03, -1.70482560e-02, -2.25697075e-03,\n",
       "         -2.17474925e-02, -1.27821919e-02, -5.83306777e-03,\n",
       "         -4.61868318e-03, -1.71607228e-02, -2.53680236e-02,\n",
       "         -2.93713639e-02, -2.67258431e-02, -1.01191531e-02,\n",
       "         -1.51588354e-02,  1.31229923e-02, -5.84774005e-03,\n",
       "         -1.38310715e-02, -2.42167670e-02],\n",
       "        [-1.44204509e-02, -9.32031798e-03, -1.68553934e-02,\n",
       "          6.31536479e-03, -2.31943636e-02, -1.96511904e-02,\n",
       "         -1.86280661e-02, -2.90404186e-02, -2.64561895e-03,\n",
       "         -9.17530847e-03, -2.24075654e-02, -6.93108351e-03,\n",
       "         -6.79019182e-03, -1.01193403e-02, -1.48703867e-02,\n",
       "         -1.17939096e-03, -2.79219287e-02, -2.33790058e-02,\n",
       "         -1.17146039e-02, -7.93625787e-03, -1.00555232e-02,\n",
       "         -7.87214728e-03, -9.96055321e-03,  3.27291777e-03,\n",
       "         -1.13889428e-02,  5.65293316e-03],\n",
       "        [-4.08108419e-03, -2.06175454e-02, -5.14330421e-04,\n",
       "         -3.39688926e-02, -2.69117954e-02, -1.34668977e-02,\n",
       "         -1.66760852e-02, -1.44445477e-02, -1.13124402e-02,\n",
       "          1.24771256e-02, -1.64421065e-02, -1.69023750e-02,\n",
       "         -7.25630653e-03, -9.19152501e-03, -1.24271675e-02,\n",
       "         -5.39776407e-03, -2.59531010e-02,  2.00106475e-02,\n",
       "          1.30853964e-03, -8.44656129e-03, -8.02552699e-03,\n",
       "         -1.57144426e-02, -7.73466255e-03, -1.24725349e-02,\n",
       "         -2.26803463e-02, -3.19274983e-02],\n",
       "        [-1.12626032e-02, -3.83566494e-03, -1.42676282e-02,\n",
       "         -3.67634361e-02, -1.18570214e-02, -4.70021172e-04,\n",
       "         -1.97784853e-02, -2.16370095e-02, -6.82782186e-03,\n",
       "         -8.45146632e-03, -1.06639771e-02, -8.91874701e-03,\n",
       "          6.63180401e-03, -1.47513652e-02, -5.11095632e-03,\n",
       "         -8.64336281e-03, -1.51987729e-03, -1.48216006e-02,\n",
       "          4.19489821e-03,  9.56983848e-03, -2.51557557e-02,\n",
       "         -8.13905050e-03,  1.39995829e-04, -8.25263753e-03,\n",
       "         -1.63316805e-02, -6.79600623e-03],\n",
       "        [-7.81175113e-03, -8.67076319e-03, -1.26392217e-02,\n",
       "         -1.41227021e-02, -1.52564400e-02, -2.28136724e-02,\n",
       "         -5.92145534e-03, -1.65754832e-02, -1.88465663e-02,\n",
       "         -9.77317056e-03, -2.33042878e-02, -2.46855993e-02,\n",
       "          2.15317370e-03, -1.86530449e-02, -2.12535970e-02,\n",
       "          1.54357844e-02, -2.37070522e-02, -1.89441783e-02,\n",
       "         -9.13634379e-03, -1.97430746e-02, -2.97467387e-02,\n",
       "         -2.32768721e-02, -1.02126750e-02, -3.81478428e-03,\n",
       "         -2.63715052e-03, -1.46569366e-02],\n",
       "        [ 8.24055135e-03,  1.81776884e-04, -1.26214900e-02,\n",
       "         -6.84842747e-03, -1.33372573e-02,  3.96101607e-03,\n",
       "         -1.10755012e-02, -1.10746291e-02, -1.74103911e-02,\n",
       "         -6.46551753e-03, -8.63793247e-03, -1.88183228e-02,\n",
       "         -2.15001165e-02, -1.80458846e-02, -5.48067679e-04,\n",
       "         -3.20449151e-03, -4.39465425e-03,  1.39374324e-02,\n",
       "         -9.30884279e-03, -1.29526923e-02,  7.98518070e-03,\n",
       "         -3.59713298e-03, -8.97233015e-03,  9.85048967e-03,\n",
       "         -3.09192590e-04,  2.12065486e-03],\n",
       "        [ 1.66793430e-02, -3.96985224e-02, -1.20923118e-02,\n",
       "         -1.05113661e-03, -3.50707065e-02, -2.18811652e-02,\n",
       "         -3.83534140e-03, -4.50687826e-03, -7.50659221e-04,\n",
       "         -1.00920019e-02, -1.16696374e-02, -1.91404005e-03,\n",
       "         -1.11820809e-02, -1.05549812e-03, -1.51285688e-02,\n",
       "         -3.07798739e-03,  3.30507831e-03,  1.26753646e-02,\n",
       "         -1.98541730e-02,  2.31725019e-03, -1.77652564e-02,\n",
       "          1.55876277e-02, -9.69620173e-03, -1.68686519e-02,\n",
       "         -5.44546260e-03, -1.69878777e-03],\n",
       "        [-2.53869202e-02,  6.36542682e-04, -2.61484950e-04,\n",
       "         -9.72673788e-03, -1.60417880e-02, -7.25176434e-03,\n",
       "         -3.29662087e-03, -2.09134431e-02, -1.71595696e-02,\n",
       "          1.64701758e-03,  3.87484543e-04, -2.14551403e-02,\n",
       "         -3.74579803e-03,  7.90825352e-04, -3.68917151e-02,\n",
       "          9.61551499e-04, -1.41828394e-02, -4.47907484e-03,\n",
       "         -6.31288946e-03, -2.46334874e-02, -7.28588494e-03,\n",
       "         -5.75929098e-03, -1.26359442e-02, -1.73676004e-02,\n",
       "         -5.75611324e-03, -1.07012700e-02],\n",
       "        [-1.89679001e-02,  7.44062907e-03, -2.06427320e-02,\n",
       "          2.96380694e-03, -1.91567330e-02, -1.55353143e-02,\n",
       "          5.17116874e-03, -1.69631825e-02,  5.27737842e-03,\n",
       "          1.76287598e-04, -1.48155585e-02, -3.66771201e-02,\n",
       "         -1.47236303e-02, -6.07398585e-03, -8.45463771e-03,\n",
       "          2.44020401e-03, -7.95859133e-03, -2.48935768e-03,\n",
       "          2.83950662e-03, -8.46941577e-03, -7.87188606e-03,\n",
       "         -1.40192166e-02, -1.57332083e-02, -4.30427838e-02,\n",
       "         -1.67867800e-02, -1.84431230e-02]])}"
      ]
     },
     "execution_count": 55,
     "metadata": {},
     "output_type": "execute_result"
    }
   ],
   "source": [
    "def theta_upgrade(param, grad, learning_rate= 0.005):\n",
    "    '''\n",
    "    '''\n",
    "    theta1 = param['T1']\n",
    "    theta2 = param['T2']\n",
    "    theta1 = theta1 - learning_rate* grad['grad_1']\n",
    "    theta2 = theta2 - learning_rate* grad['grad_2']\n",
    "    \n",
    "    param = {'T1': theta1, 'T2': theta2}\n",
    "    return param\n",
    "theta_upgrade(parameters, grad_val)"
   ]
  },
  {
   "cell_type": "code",
   "execution_count": null,
   "metadata": {},
   "outputs": [
    {
     "name": "stdout",
     "output_type": "stream",
     "text": [
      "Num iter: 0 \t 3.479471381938311\n",
      "Num iter: 50 \t 1.7251385501700482\n",
      "Num iter: 100 \t 1.7258679746532022\n",
      "Num iter: 150 \t 1.739695356904868\n",
      "Num iter: 200 \t 1.7552659876296097\n",
      "Num iter: 250 \t 1.7720489911994752\n",
      "Num iter: 300 \t 1.7899824047832025\n",
      "Num iter: 350 \t 1.8088667804055316\n",
      "Num iter: 400 \t 1.8284642298690044\n",
      "Num iter: 450 \t 1.848562390646654\n",
      "Num iter: 500 \t 1.8689890588506015\n",
      "Num iter: 550 \t 1.8896071863299255\n",
      "Num iter: 600 \t 1.9103046956133374\n",
      "Num iter: 650 \t 1.9309839062461938\n",
      "Num iter: 700 \t 1.9515513980683687\n",
      "Num iter: 750 \t 1.9719075863631181\n",
      "Num iter: 800 \t 1.9919344516873692\n",
      "Num iter: 850 \t 2.0114789578720664\n",
      "Num iter: 900 \t 2.03032821837782\n",
      "Num iter: 950 \t 2.048170102779628\n",
      "Num iter: 1000 \t 2.0645302544052164\n",
      "Num iter: 1050 \t 2.078678837401265\n",
      "Num iter: 1100 \t 2.08953336412394\n",
      "Num iter: 1150 \t 2.0957257727220484\n",
      "Num iter: 1200 \t 2.096292894669968\n",
      "Num iter: 1250 \t 2.0921430775968948\n",
      "Num iter: 1300 \t 2.086391956244343\n",
      "Num iter: 1350 \t 2.0820939753845087\n",
      "Num iter: 1400 \t 2.0805032333865126\n",
      "Num iter: 1450 \t 2.081503284549618\n",
      "Num iter: 1500 \t 2.084505049624669\n",
      "Num iter: 1550 \t 2.088913432036909\n",
      "Num iter: 1600 \t 2.0942648034393936\n",
      "Num iter: 1650 \t 2.100232470178764\n",
      "Num iter: 1700 \t 2.106596420100126\n",
      "Num iter: 1750 \t 2.113211288588878\n",
      "Num iter: 1800 \t 2.1199814241901027\n",
      "Num iter: 1850 \t 2.1268435566094537\n",
      "Num iter: 1900 \t 2.1337553859047547\n",
      "Num iter: 1950 \t 2.1406882715573405\n",
      "Num iter: 2000 \t 2.1476225995986025\n",
      "Num iter: 2050 \t 2.154544845127222\n",
      "Num iter: 2100 \t 2.161445691659306\n",
      "Num iter: 2150 \t 2.1683188064431302\n",
      "Num iter: 2200 \t 2.1751600247893954\n",
      "Num iter: 2250 \t 2.1819667925163144\n",
      "Num iter: 2300 \t 2.1887377742780605\n",
      "Num iter: 2350 \t 2.195472570996863\n",
      "Num iter: 2400 \t 2.2021715109828617\n",
      "Num iter: 2450 \t 2.2088354922514837\n",
      "Num iter: 2500 \t 2.215465861446769\n",
      "Num iter: 2550 \t 2.2220643196807495\n",
      "Num iter: 2600 \t 2.228632848703547\n",
      "Num iter: 2650 \t 2.235173652835248\n",
      "Num iter: 2700 \t 2.2416891134393366\n"
     ]
    }
   ],
   "source": [
    "def main(X, Y_vec, num_iter= 20000):\n",
    "    np.random.seed(0)\n",
    "    parameters= init_param()\n",
    "    upd_para = parameters\n",
    "    for i in range(num_iter):\n",
    "        y_hat, act = fwd_prop(X, upd_para)\n",
    "        cost= cost_func(X, Y_vec, y_hat, upd_para, lamb = 1)\n",
    "        grad_val = back_prop(upd_para, X, Y_vec, act, lamb = 1)\n",
    "        upd_para = theta_upgrade(upd_para, grad_val)\n",
    "        if i % 50 == 0:\n",
    "            print('Num iter:', i, '\\t',cost)\n",
    "    return upd_param\n",
    "\n",
    "param_f=main(X, Y_vec, num_iter= 5000)"
   ]
  },
  {
   "cell_type": "code",
   "execution_count": 58,
   "metadata": {},
   "outputs": [],
   "source": [
    "pred, accuracy = prediction(X, param_f, Y)"
   ]
  },
  {
   "cell_type": "code",
   "execution_count": 60,
   "metadata": {},
   "outputs": [
    {
     "data": {
      "text/plain": [
       "10.0"
      ]
     },
     "execution_count": 60,
     "metadata": {},
     "output_type": "execute_result"
    }
   ],
   "source": [
    "pred"
   ]
  },
  {
   "cell_type": "code",
   "execution_count": 34,
   "metadata": {},
   "outputs": [
    {
     "data": {
      "text/plain": [
       "{'T1': array([[0.11742729, 0.10378834, 0.10957414, ..., 0.11445255, 0.10831228,\n",
       "         0.09380022],\n",
       "        [0.08862779, 0.1074534 , 0.10334969, ..., 0.09148712, 0.11389848,\n",
       "         0.1076448 ],\n",
       "        [0.09921207, 0.09587459, 0.10919594, ..., 0.09082307, 0.08015944,\n",
       "         0.11563497],\n",
       "        ...,\n",
       "        [0.08587251, 0.11166087, 0.10115418, ..., 0.11661471, 0.11118834,\n",
       "         0.08452779],\n",
       "        [0.10794603, 0.08782751, 0.08428084, ..., 0.10413219, 0.08536605,\n",
       "         0.10139364],\n",
       "        [0.10302253, 0.10119815, 0.10114442, ..., 0.10707569, 0.10530708,\n",
       "         0.07175442]]),\n",
       " 'T2': array([[-0.0901874 , -0.09335831, -0.07321853, -0.09175553, -0.0655179 ,\n",
       "         -0.08988595, -0.09520317, -0.07177751, -0.08449745, -0.08339999,\n",
       "         -0.07531818, -0.08824035, -0.09303373, -0.07819412, -0.08964851,\n",
       "         -0.09095176, -0.09314944, -0.08669358, -0.09242267, -0.07753161,\n",
       "         -0.0876957 , -0.08294595, -0.09985731, -0.07814853, -0.07962023,\n",
       "         -0.07843837],\n",
       "        [-0.07115367, -0.08243111, -0.07970758, -0.08270687, -0.09106426,\n",
       "         -0.0875843 , -0.08757659, -0.07617351, -0.09477013, -0.10417453,\n",
       "         -0.07639776, -0.07819912, -0.09090083, -0.1003692 , -0.09742681,\n",
       "         -0.0773549 , -0.08546405, -0.07399558, -0.09288323, -0.08963961,\n",
       "         -0.09127343, -0.08295114, -0.074803  , -0.07876156, -0.06831631,\n",
       "         -0.08695224],\n",
       "        [-0.07375005, -0.08551544, -0.10470461, -0.06656772, -0.08863761,\n",
       "         -0.08780491, -0.0809723 , -0.10534358, -0.07687882, -0.07776741,\n",
       "         -0.08504222, -0.08119773, -0.08820964, -0.07857151, -0.07715348,\n",
       "         -0.08425296, -0.07248839, -0.09612017, -0.0961179 , -0.11099673,\n",
       "         -0.07852433, -0.08708814, -0.09480355, -0.07983514, -0.08869887,\n",
       "         -0.08389308],\n",
       "        [-0.07751873, -0.07948832, -0.0699542 , -0.07870991, -0.09411028,\n",
       "         -0.09430908, -0.09996291, -0.09027286, -0.07594624, -0.1014147 ,\n",
       "         -0.09106487, -0.08007614, -0.07801067, -0.08496028, -0.08047437,\n",
       "         -0.06516449, -0.07728198, -0.09409838, -0.10019907, -0.08295367,\n",
       "         -0.07828033, -0.09038707, -0.07911413, -0.08663225, -0.10327143,\n",
       "         -0.08038934],\n",
       "        [-0.09630275, -0.07897502, -0.07675968, -0.08115954, -0.06977738,\n",
       "         -0.08109577, -0.08296678, -0.08106168, -0.08460715, -0.06708411,\n",
       "         -0.07937478, -0.05951224, -0.0988427 , -0.08559312, -0.09234938,\n",
       "         -0.07916252, -0.08771755, -0.08301236, -0.08965357, -0.08276961,\n",
       "         -0.09090967, -0.08330796, -0.08157636, -0.08497712, -0.08062754,\n",
       "         -0.07944064],\n",
       "        [-0.09027242, -0.07953443, -0.08128865, -0.07401747, -0.08518999,\n",
       "         -0.07925122, -0.09292278, -0.09913598, -0.08427826, -0.08428462,\n",
       "         -0.09297514, -0.10619721, -0.06216917, -0.08002609, -0.08245389,\n",
       "         -0.07070184, -0.10088214, -0.08258193, -0.0863821 , -0.07424125,\n",
       "         -0.09040501, -0.1031785 , -0.07801613, -0.1039636 , -0.09682137,\n",
       "         -0.07894234],\n",
       "        [-0.07463502, -0.08341133, -0.09017202, -0.10608037, -0.09065029,\n",
       "         -0.09562275, -0.08943005, -0.09545004, -0.09152449, -0.06959211,\n",
       "         -0.11149154, -0.1089173 , -0.08100999, -0.09002398, -0.09695398,\n",
       "         -0.09921774, -0.08442939, -0.08354764, -0.078525  , -0.07303175,\n",
       "         -0.0904854 , -0.08529457, -0.08723553, -0.08675483, -0.08864776,\n",
       "         -0.09858564],\n",
       "        [-0.08403874, -0.08375252, -0.08531563, -0.07687049, -0.07958451,\n",
       "         -0.10421531, -0.09600222, -0.07615813, -0.09063951, -0.08359615,\n",
       "         -0.08916514, -0.07382833, -0.08469646, -0.08530747, -0.1011729 ,\n",
       "         -0.10265104, -0.09015169, -0.07684628, -0.09398207, -0.07192066,\n",
       "         -0.09219996, -0.08207311, -0.09119386, -0.0816752 , -0.07225742,\n",
       "         -0.07662354],\n",
       "        [-0.06953199, -0.0934774 , -0.09758372, -0.09855796, -0.08849806,\n",
       "         -0.0990818 , -0.09554493, -0.09383364, -0.05402185, -0.08401744,\n",
       "         -0.08685599, -0.09252574, -0.09695896, -0.08621631, -0.09640408,\n",
       "         -0.10197015, -0.10258119, -0.06918373, -0.09284457, -0.10282604,\n",
       "         -0.08956078, -0.07944926, -0.08633155, -0.09755009, -0.08713128,\n",
       "         -0.09210598],\n",
       "        [-0.07595077, -0.07160518, -0.0837745 , -0.10479581, -0.08830215,\n",
       "         -0.08530233, -0.09166131, -0.09124287, -0.08236864, -0.08033832,\n",
       "         -0.07464047, -0.09370204, -0.0886615 , -0.0875375 , -0.0835593 ,\n",
       "         -0.08096712, -0.08510565, -0.09155967, -0.07781892, -0.07573816,\n",
       "         -0.07007716, -0.07690847, -0.1089393 , -0.09360912, -0.08575358,\n",
       "         -0.08436995]])}"
      ]
     },
     "execution_count": 34,
     "metadata": {},
     "output_type": "execute_result"
    }
   ],
   "source": [
    "param_f"
   ]
  },
  {
   "cell_type": "code",
   "execution_count": 35,
   "metadata": {},
   "outputs": [
    {
     "data": {
      "text/plain": [
       "{'T1': array([[ 0.01764052,  0.00400157,  0.00978738, ...,  0.01466579,\n",
       "          0.00852552, -0.00598654],\n",
       "        [-0.01115897,  0.00766663,  0.00356293, ..., -0.00829965,\n",
       "          0.01411172,  0.00785804],\n",
       "        [-0.0005747 , -0.00391217,  0.00940918, ..., -0.0089637 ,\n",
       "         -0.01962732,  0.01584821],\n",
       "        ...,\n",
       "        [-0.01391425,  0.01187411,  0.00136741, ...,  0.01682795,\n",
       "          0.01140158, -0.01525897],\n",
       "        [ 0.00815926, -0.01195925, -0.01550592, ...,  0.00434542,\n",
       "         -0.01442071,  0.00160688],\n",
       "        [ 0.00323576,  0.00141138,  0.00135765, ...,  0.00728893,\n",
       "          0.00552032, -0.02803234]]),\n",
       " 'T2': array([[-3.96053178e-03, -7.13143622e-03,  1.30083367e-02,\n",
       "         -5.52865793e-03,  2.07089741e-02, -3.65908330e-03,\n",
       "         -8.97630042e-03,  1.44493648e-02,  1.72941854e-03,\n",
       "          2.82688496e-03,  1.09086956e-02, -2.01348162e-03,\n",
       "         -6.80685755e-03,  8.03275024e-03, -3.42163830e-03,\n",
       "         -4.72488842e-03, -6.92256898e-03, -4.66712637e-04,\n",
       "         -6.19580088e-03,  8.69526008e-03, -1.46882853e-03,\n",
       "          3.28091763e-03, -1.36304350e-02,  8.07834303e-03,\n",
       "          6.60664029e-03,  7.78850045e-03],\n",
       "        [ 1.50732025e-02,  3.79576206e-03,  6.51929549e-03,\n",
       "          3.52000158e-03, -4.83738886e-03, -1.35742870e-03,\n",
       "         -1.34971429e-03,  1.00533622e-02, -8.54325489e-03,\n",
       "         -1.79476544e-02,  9.82910657e-03,  8.02774960e-03,\n",
       "         -4.67396356e-03, -1.41423293e-02, -1.11999345e-02,\n",
       "          8.87196672e-03,  7.62820509e-04,  1.22312878e-02,\n",
       "         -6.65636319e-03, -3.41273744e-03, -5.04655986e-03,\n",
       "          3.27573354e-03,  1.14238679e-02,  7.46531449e-03,\n",
       "          1.79105614e-02, -7.25371098e-04],\n",
       "        [ 1.24768194e-02,  7.11429784e-04, -1.84777349e-02,\n",
       "          1.96591487e-02, -2.41073870e-03, -1.57804289e-03,\n",
       "          5.25457596e-03, -1.91167094e-02,  9.34805413e-03,\n",
       "          8.45946217e-03,  1.18464665e-03,  5.02914467e-03,\n",
       "         -1.98277080e-03,  7.65535828e-03,  9.07338956e-03,\n",
       "          1.97391173e-03,  1.37384821e-02, -9.89330048e-03,\n",
       "         -9.89102380e-03, -2.47698540e-02,  7.70254275e-03,\n",
       "         -8.61265806e-04, -8.57667955e-03,  6.39173598e-03,\n",
       "         -2.47200343e-03,  2.33379568e-03],\n",
       "        [ 8.70814118e-03,  6.73855174e-03,  1.62726698e-02,\n",
       "          7.51696518e-03, -7.88341151e-03, -8.08220805e-03,\n",
       "         -1.37360368e-02, -4.04599213e-03,  1.02806304e-02,\n",
       "         -1.51878243e-02, -4.83800160e-03,  6.15073204e-03,\n",
       "          8.21620459e-03,  1.26658866e-03,  5.75250042e-03,\n",
       "          2.10623775e-02,  8.94489589e-03, -7.87150884e-03,\n",
       "         -1.39721956e-02,  3.27319627e-03,  7.94654440e-03,\n",
       "         -4.16019906e-03,  7.11274382e-03, -4.05380010e-04,\n",
       "         -1.70445563e-02,  5.83753485e-03],\n",
       "        [-1.00758783e-02,  7.25185110e-03,  9.46718934e-03,\n",
       "          5.06732889e-03,  1.64494924e-02,  5.13110130e-03,\n",
       "          3.26009523e-03,  5.16518783e-03,  1.61971855e-03,\n",
       "          1.91427622e-02,  6.85208978e-03,  2.67146361e-02,\n",
       "         -1.26158317e-02,  6.33755232e-04, -6.12250888e-03,\n",
       "          7.06435599e-03, -1.49067507e-03,  3.21450907e-03,\n",
       "         -3.42670374e-03,  3.45725855e-03, -4.68280277e-03,\n",
       "          2.91891616e-03,  4.65050770e-03,  1.24974945e-03,\n",
       "          5.59933547e-03,  6.78623614e-03],\n",
       "        [-4.04554626e-03,  6.69244255e-03,  4.93822497e-03,\n",
       "          1.22093965e-02,  1.03687938e-03,  6.97564650e-03,\n",
       "         -6.69591147e-03, -1.29091089e-02,  1.94861295e-03,\n",
       "          1.94225206e-03, -6.74826910e-03, -1.99703344e-02,\n",
       "          2.40577061e-02,  6.20078463e-03,  3.77298163e-03,\n",
       "          1.55250320e-02, -1.46552712e-02,  3.64494041e-03,\n",
       "         -1.55226060e-04,  1.19856239e-02, -4.17813553e-03,\n",
       "         -1.69516251e-02,  8.21074357e-03, -1.77367277e-02,\n",
       "         -1.05945037e-02,  7.28453165e-03],\n",
       "        [ 1.15918465e-02,  2.81553863e-03, -3.94514412e-03,\n",
       "         -1.98535013e-02, -4.42342229e-03, -9.39588095e-03,\n",
       "         -3.20317675e-03, -9.22316596e-03, -5.29761965e-03,\n",
       "          1.66347574e-02, -2.52646699e-02, -2.26904333e-02,\n",
       "          5.21688339e-03, -3.79710742e-03, -1.07271133e-02,\n",
       "         -1.29908643e-02,  1.79748322e-03,  2.67923022e-03,\n",
       "          7.70186697e-03,  1.31951239e-02, -4.25853130e-03,\n",
       "          9.32302887e-04, -1.00866321e-03, -5.27959520e-04,\n",
       "         -2.42088711e-03, -1.23587708e-02],\n",
       "        [ 2.18813126e-03,  2.47434982e-03,  9.11240937e-04,\n",
       "          9.35638546e-03,  6.64236396e-03, -1.79884394e-02,\n",
       "         -9.77534908e-03,  1.00687389e-02, -4.41263818e-03,\n",
       "          2.63072440e-03, -2.93827008e-03,  1.23985460e-02,\n",
       "          1.53041412e-03,  9.19402524e-04, -1.49460300e-02,\n",
       "         -1.64241705e-02, -3.92482091e-03,  9.38059394e-03,\n",
       "         -7.75519575e-03,  1.43062089e-02, -5.97309338e-03,\n",
       "          4.15376516e-03, -4.96698796e-03,  4.55167392e-03,\n",
       "          1.39694495e-02,  9.60332772e-03],\n",
       "        [ 1.66948789e-02, -7.25053217e-03, -1.13568472e-02,\n",
       "         -1.23310883e-02, -2.27118576e-03, -1.28549254e-02,\n",
       "         -9.31805927e-03, -7.60676951e-03,  3.22050179e-02,\n",
       "          2.20942883e-03, -6.29122623e-04, -6.29887013e-03,\n",
       "         -1.07320936e-02,  1.05581497e-05, -1.01772136e-02,\n",
       "         -1.57432766e-02, -1.63543201e-02,  1.70431399e-02,\n",
       "         -6.61769814e-03, -1.65991695e-02, -3.33390886e-03,\n",
       "          6.77761375e-03, -1.04675245e-04, -1.13232162e-02,\n",
       "         -9.04404628e-04, -5.87910593e-03],\n",
       "        [ 1.02760999e-02,  1.46216884e-02,  2.45237345e-03,\n",
       "         -1.85689377e-02, -2.07527534e-03,  9.24542123e-04,\n",
       "         -5.43444313e-03, -5.01599882e-03,  3.85822722e-03,\n",
       "          5.88855237e-03,  1.15863970e-02, -7.47517060e-03,\n",
       "         -2.43462635e-03, -1.31063323e-03,  2.66756788e-03,\n",
       "          5.25975524e-03,  1.12122408e-03, -5.33279620e-03,\n",
       "          8.40794952e-03,  1.04887119e-02,  1.61497094e-02,\n",
       "          9.31839718e-03, -2.27124325e-02, -7.38224986e-03,\n",
       "          4.73290792e-04,  1.85691931e-03]])}"
      ]
     },
     "execution_count": 35,
     "metadata": {},
     "output_type": "execute_result"
    }
   ],
   "source": []
  },
  {
   "cell_type": "code",
   "execution_count": null,
   "metadata": {},
   "outputs": [],
   "source": [
    "def new(x):\n",
    "    x = x+2\n",
    "    return x"
   ]
  },
  {
   "cell_type": "code",
   "execution_count": null,
   "metadata": {},
   "outputs": [],
   "source": []
  },
  {
   "cell_type": "code",
   "execution_count": null,
   "metadata": {},
   "outputs": [],
   "source": []
  },
  {
   "cell_type": "code",
   "execution_count": null,
   "metadata": {},
   "outputs": [],
   "source": []
  },
  {
   "cell_type": "code",
   "execution_count": null,
   "metadata": {},
   "outputs": [],
   "source": [
    "    X_b = add_bias(X, len(X))\n",
    "    m = len(X)\n",
    "    D0 =0\n",
    "    D1 =0\n",
    "    theta2 = param['T2']\n",
    "    theta1 = param['T1']\n",
    "    #COMPUTE DEL\n",
    "    #Error in layer 2 : dz2 = a-y\n",
    "    dz2 = act['l2'] - Y_vec\n",
    "    print('Dz2: ',dz2.shape)\n",
    "    print(act['l1'].shape)\n",
    "    print((np.dot(dz2.T, act['l1'])).shape)\n",
    "    #Error in layer 1 : dz1 = (theta . dz2) * g'(z2) // where final_prediction = g(z2)\n",
    "    dz1 = np.dot(dz2, theta2) * (act['l1'] * (1 -act['l1']))\n",
    "    print('Dz2 shape:',dz2.shape)\n",
    "    print('X_b shape:',X_b.shape)\n",
    "        \n",
    "    #D2 : del J / del theta2\n",
    "    print('Dz2: ',dz2.shape)\n",
    "    print(act['l1'].shape)\n",
    "    D2 = np.dot(dz2.T, act['l1'])/m\n",
    "    print('grad 2 shape', D2.shape) \n",
    "    D1 = np.dot(dz1.T, X_b)/m\n",
    "    print('D1: ',D1.shape)\n",
    "    print('D2: ',D2.shape)\n",
    "    "
   ]
  }
 ],
 "metadata": {
  "kernelspec": {
   "display_name": "Python 3",
   "language": "python",
   "name": "python3"
  },
  "language_info": {
   "codemirror_mode": {
    "name": "ipython",
    "version": 3
   },
   "file_extension": ".py",
   "mimetype": "text/x-python",
   "name": "python",
   "nbconvert_exporter": "python",
   "pygments_lexer": "ipython3",
   "version": "3.7.3"
  }
 },
 "nbformat": 4,
 "nbformat_minor": 2
}
