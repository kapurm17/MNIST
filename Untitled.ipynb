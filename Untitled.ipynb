{
 "cells": [
  {
   "cell_type": "code",
   "execution_count": 56,
   "metadata": {},
   "outputs": [],
   "source": [
    "import scipy.io \n",
    "import pandas as pd\n",
    "import matplotlib.pyplot as plt\n",
    "import numpy as np\n",
    "import pandas as pd"
   ]
  },
  {
   "cell_type": "code",
   "execution_count": 57,
   "metadata": {},
   "outputs": [],
   "source": [
    "data = scipy.io.loadmat('ex4data1.mat')"
   ]
  },
  {
   "cell_type": "code",
   "execution_count": 58,
   "metadata": {},
   "outputs": [
    {
     "data": {
      "text/plain": [
       "{'__header__': b'MATLAB 5.0 MAT-file, Platform: GLNXA64, Created on: Sun Oct 16 13:09:09 2011',\n",
       " '__version__': '1.0',\n",
       " '__globals__': [],\n",
       " 'X': array([[0., 0., 0., ..., 0., 0., 0.],\n",
       "        [0., 0., 0., ..., 0., 0., 0.],\n",
       "        [0., 0., 0., ..., 0., 0., 0.],\n",
       "        ...,\n",
       "        [0., 0., 0., ..., 0., 0., 0.],\n",
       "        [0., 0., 0., ..., 0., 0., 0.],\n",
       "        [0., 0., 0., ..., 0., 0., 0.]]),\n",
       " 'y': array([[10],\n",
       "        [10],\n",
       "        [10],\n",
       "        ...,\n",
       "        [ 9],\n",
       "        [ 9],\n",
       "        [ 9]], dtype=uint8)}"
      ]
     },
     "execution_count": 58,
     "metadata": {},
     "output_type": "execute_result"
    }
   ],
   "source": [
    "data"
   ]
  },
  {
   "cell_type": "code",
   "execution_count": 59,
   "metadata": {},
   "outputs": [],
   "source": [
    "#Seperting features and labels\n",
    "X = data['X']\n",
    "Y = data['y']"
   ]
  },
  {
   "cell_type": "code",
   "execution_count": 60,
   "metadata": {},
   "outputs": [
    {
     "name": "stdout",
     "output_type": "stream",
     "text": [
      "5000\n",
      "(5000, 400)\n"
     ]
    }
   ],
   "source": [
    "m = len(X)\n",
    "print(m)\n",
    "print(X.shape)"
   ]
  },
  {
   "cell_type": "code",
   "execution_count": 61,
   "metadata": {},
   "outputs": [
    {
     "data": {
      "text/plain": [
       "5000"
      ]
     },
     "execution_count": 61,
     "metadata": {},
     "output_type": "execute_result"
    }
   ],
   "source": [
    "len(Y)"
   ]
  },
  {
   "cell_type": "code",
   "execution_count": null,
   "metadata": {},
   "outputs": [],
   "source": []
  },
  {
   "cell_type": "code",
   "execution_count": 153,
   "metadata": {},
   "outputs": [],
   "source": [
    "for i in range(len(Y)):\n",
    "    if Y[i] == 10:\n",
    "        Y[i] = 0 "
   ]
  },
  {
   "cell_type": "code",
   "execution_count": 154,
   "metadata": {},
   "outputs": [],
   "source": [
    "Y_vec = np.identity(10)[list(Y)]"
   ]
  },
  {
   "cell_type": "code",
   "execution_count": 155,
   "metadata": {},
   "outputs": [
    {
     "data": {
      "text/plain": [
       "<matplotlib.image.AxesImage at 0x2070c4bf3c8>"
      ]
     },
     "execution_count": 155,
     "metadata": {},
     "output_type": "execute_result"
    },
    {
     "data": {
      "image/png": "[encoded data removed]",
      "text/plain": [
       "<Figure size 432x288 with 1 Axes>"
      ]
     },
     "metadata": {
      "needs_background": "light"
     },
     "output_type": "display_data"
    }
   ],
   "source": [
    "plt.imshow(X[2000].reshape(20,20).T)"
   ]
  },
  {
   "cell_type": "code",
   "execution_count": 156,
   "metadata": {},
   "outputs": [
    {
     "name": "stdout",
     "output_type": "stream",
     "text": [
      "[[0. 0. 0. 0. 1. 0. 0. 0. 0. 0.]]\n",
      "[4]\n",
      "4\n"
     ]
    }
   ],
   "source": [
    "print(Y_vec[2000])\n",
    "print(Y[2000])\n",
    "print(Y_vec[2000].argmax())"
   ]
  },
  {
   "cell_type": "code",
   "execution_count": 157,
   "metadata": {},
   "outputs": [
    {
     "data": {
      "text/plain": [
       "<matplotlib.image.AxesImage at 0x2070c510908>"
      ]
     },
     "execution_count": 157,
     "metadata": {},
     "output_type": "execute_result"
    },
    {
     "data": {
      "image/png": "[encoded data removed]",
      "text/plain": [
       "<Figure size 432x288 with 1 Axes>"
      ]
     },
     "metadata": {
      "needs_background": "light"
     },
     "output_type": "display_data"
    }
   ],
   "source": [
    "plt.imshow(X[100].reshape(20,20).T)"
   ]
  },
  {
   "cell_type": "code",
   "execution_count": 165,
   "metadata": {},
   "outputs": [
    {
     "data": {
      "text/plain": [
       "array([[1., 0., 0., ..., 0., 0., 0.],\n",
       "       [1., 0., 0., ..., 0., 0., 0.],\n",
       "       [1., 0., 0., ..., 0., 0., 0.],\n",
       "       ...,\n",
       "       [0., 0., 0., ..., 0., 0., 1.],\n",
       "       [0., 0., 0., ..., 0., 0., 1.],\n",
       "       [0., 0., 0., ..., 0., 0., 1.]])"
      ]
     },
     "execution_count": 165,
     "metadata": {},
     "output_type": "execute_result"
    }
   ],
   "source": [
    "Y_vec = Y_vec.reshape(5000, 10)\n",
    "Y_vec\n"
   ]
  },
  {
   "cell_type": "code",
   "execution_count": 159,
   "metadata": {},
   "outputs": [],
   "source": [
    "def sigmoid(x):\n",
    "    '''\n",
    "    Sigmoid Activation Function\n",
    "    '''\n",
    "    return 1/(1+ np.exp(-x))"
   ]
  },
  {
   "cell_type": "code",
   "execution_count": null,
   "metadata": {},
   "outputs": [],
   "source": []
  },
  {
   "cell_type": "markdown",
   "metadata": {},
   "source": [
    "### Neural Network\n",
    "#### Steps Of building a neural nework:\n",
    "1. Randomly initialize parameter theta.\n",
    "2. Perform forward propogation.\n",
    "3. Compute cost function.\n",
    "4. Implement Backpropogation to obtain gradient.\n",
    "5. Update theta.\n",
    "5. Repeat."
   ]
  },
  {
   "cell_type": "code",
   "execution_count": 137,
   "metadata": {},
   "outputs": [],
   "source": [
    "#Initialising theta\n",
    "#theta = scipy.io.loadmat('ex3weights.mat')\n",
    "\n",
    "theta1 = np.random.randn(25, 401)\n",
    "theta2 = np.random.randn(10, 26)\n",
    "param = {'T1': theta1, 'T2': theta2}"
   ]
  },
  {
   "cell_type": "code",
   "execution_count": 73,
   "metadata": {},
   "outputs": [
    {
     "data": {
      "text/plain": [
       "{'__header__': b'MATLAB 5.0 MAT-file, Platform: GLNXA64, Created on: Tue Oct 18 14:57:02 2011',\n",
       " '__version__': '1.0',\n",
       " '__globals__': [],\n",
       " 'Theta1': array([[-2.25623899e-02, -1.05624163e-08,  2.19414684e-09, ...,\n",
       "         -1.30529929e-05, -5.04175101e-06,  2.80464449e-09],\n",
       "        [-9.83811294e-02,  7.66168682e-09, -9.75873689e-09, ...,\n",
       "         -5.60134007e-05,  2.00940969e-07,  3.54422854e-09],\n",
       "        [ 1.16156052e-01, -8.77654466e-09,  8.16037764e-09, ...,\n",
       "         -1.20951657e-04, -2.33669661e-06, -7.50668099e-09],\n",
       "        ...,\n",
       "        [-1.83220638e-01, -8.89272060e-09, -9.81968100e-09, ...,\n",
       "          2.35311186e-05, -3.25484493e-06,  9.02499060e-09],\n",
       "        [-7.02096331e-01,  3.05178374e-10,  2.56061008e-09, ...,\n",
       "         -8.61759744e-04,  9.43449909e-05,  3.83761998e-09],\n",
       "        [-3.50933229e-01,  8.85876862e-09, -6.57515140e-10, ...,\n",
       "         -1.80365926e-06, -8.14464807e-06,  8.79454531e-09]]),\n",
       " 'Theta2': array([[-0.76100352, -1.21244498, -0.10187131, -2.36850085, -1.05778129,\n",
       "         -2.20823629,  0.56383834,  1.21105294,  2.21030997,  0.44456156,\n",
       "         -1.18244872,  1.04289112, -1.60558756,  1.30419943,  1.37175046,\n",
       "          1.74825095, -0.23365648, -1.52014483,  1.15324176,  0.10368082,\n",
       "         -0.37207719, -0.61530019, -0.1256836 , -2.27193038, -0.71836208,\n",
       "         -1.29690315],\n",
       "        [-0.61785176,  0.61559207, -1.26550639,  1.85745418, -0.91853319,\n",
       "         -0.05502589, -0.38589806,  1.29520853, -1.56843297, -0.97026419,\n",
       "         -2.18334895, -2.85033578, -2.07733086,  1.63163164,  0.3490229 ,\n",
       "          1.82789117, -2.44174379, -0.8563034 , -0.2982564 , -2.07947873,\n",
       "         -1.2933238 ,  0.89982032,  0.28306578,  2.31180525, -2.46444086,\n",
       "          1.45656548],\n",
       "        [-0.68934072, -1.94538151,  2.01360618, -3.12316188, -0.2361763 ,\n",
       "          1.38680947,  0.90982429, -1.54774416, -0.79830896, -0.65599834,\n",
       "          0.7353833 , -2.58593294,  0.47210839,  0.55349499,  2.51255453,\n",
       "         -2.4167454 , -1.63898627,  1.2027302 , -1.20245851, -1.83445959,\n",
       "         -1.88013027, -0.34056098,  0.23692483, -1.06137919,  1.02759232,\n",
       "         -0.47690832],\n",
       "        [-0.67832479,  0.46299226,  0.58492321, -0.1650184 ,  1.93264192,\n",
       "         -0.22965765, -1.84731492,  0.49011768,  1.07146054, -3.31905643,\n",
       "          1.54113507,  0.37371947, -0.86484681, -2.58273522,  0.97062447,\n",
       "         -0.51021867, -0.68427897, -1.64713607,  0.21153145, -0.27422442,\n",
       "          1.72599755,  1.32418658, -2.63984479, -0.08055871, -2.03510803,\n",
       "         -1.46123776],\n",
       "        [-0.59664339, -2.04481799,  2.05698407,  1.95100909,  0.17637699,\n",
       "         -2.16141218, -0.40394736,  1.80157532, -1.56278739, -0.25253004,\n",
       "          0.23586497,  0.71656699,  1.07689092, -0.35457279, -1.67743058,\n",
       "         -0.12939255, -0.67488849,  1.14066535,  1.32431237,  3.21158484,\n",
       "         -2.15888898, -2.60164082, -3.2226466 , -1.89612906, -0.87488068,\n",
       "          2.51038628],\n",
       "        [-0.87794907,  0.4344112 , -0.93161049,  0.18390778, -0.36078216,\n",
       "          0.61958137,  0.38624948, -2.65150343,  2.29710773, -2.08818098,\n",
       "         -1.86382323,  1.06057836,  0.77562146,  2.1346861 , -1.14973702,\n",
       "         -0.52081426,  0.99743429, -1.48309353, -2.3139424 ,  0.29517333,\n",
       "         -0.38704879, -2.20607697,  0.30702191, -1.17646114, -1.63462966,\n",
       "         -0.82467661],\n",
       "        [-0.52746527,  1.21564288, -1.50095981, -2.03195359, -1.52366734,\n",
       "         -2.43732079, -2.37570311, -1.39987277, -0.88735315, -0.63278873,\n",
       "          1.50450176, -1.580763  ,  0.58599217, -0.77540416,  0.94257331,\n",
       "          2.10919653,  0.54479132,  0.43773612, -1.28024228, -0.04360994,\n",
       "          1.4774997 , -1.13276949, -0.72846904,  0.04734716,  1.6574566 ,\n",
       "          1.68540944],\n",
       "        [-0.7490154 , -0.72249056, -3.15228173,  0.36577778,  0.19811362,\n",
       "         -0.73059946,  1.65263918, -2.300357  , -1.87468162,  0.98095387,\n",
       "         -1.58825159,  1.35434142,  2.17895331, -1.99239762, -2.00371362,\n",
       "         -0.388613  , -2.33992976, -2.91719062,  0.99398645, -2.70476768,\n",
       "         -1.27139772,  1.86091461, -1.20519404, -0.38014194,  0.7087181 ,\n",
       "         -2.11014003],\n",
       "        [-0.6665468 ,  0.53601845,  1.30307573, -1.03372714, -4.03084753,\n",
       "          0.58173469, -2.65717902,  0.80379994, -1.09241928,  2.49910058,\n",
       "          0.362008  ,  0.66195337, -0.92160534, -0.83123666, -2.00200952,\n",
       "         -2.94897501,  0.64564202, -1.10114694,  0.74510309,  0.58506717,\n",
       "         -1.99545251,  0.62591105,  1.80596103, -0.22309315, -1.40442136,\n",
       "         -2.1319153 ],\n",
       "        [-0.46089119, -1.43944954, -1.21809509,  0.71093011,  0.45216919,\n",
       "         -0.35953381,  0.62284954, -0.67005297, -0.7069138 ,  0.06311351,\n",
       "         -1.23199074, -1.74645233, -2.71960897, -2.21437178, -1.69307505,\n",
       "         -0.90927394,  0.87852311,  1.18664814, -1.87041262,  0.39796295,\n",
       "          1.72113872, -1.36934055,  0.8580668 , -0.24779579,  1.28009118,\n",
       "         -1.32752042]])}"
      ]
     },
     "execution_count": 73,
     "metadata": {},
     "output_type": "execute_result"
    }
   ],
   "source": [
    "theta"
   ]
  },
  {
   "cell_type": "code",
   "execution_count": 74,
   "metadata": {},
   "outputs": [],
   "source": [
    "def add_bias(arr, size):\n",
    "    '''\n",
    "    Adds a BIAS unit to the array 'arr' with size = 'size'\n",
    "    '''\n",
    "    ones = np.ones((size,1))\n",
    "    new = np.concatenate((ones, arr), axis=1)\n",
    "    return new"
   ]
  },
  {
   "cell_type": "code",
   "execution_count": 75,
   "metadata": {},
   "outputs": [
    {
     "name": "stdout",
     "output_type": "stream",
     "text": [
      "[ 1.00000000e+00  0.00000000e+00  0.00000000e+00  0.00000000e+00\n",
      "  0.00000000e+00  0.00000000e+00  0.00000000e+00  0.00000000e+00\n",
      "  0.00000000e+00  0.00000000e+00  0.00000000e+00  0.00000000e+00\n",
      "  0.00000000e+00  0.00000000e+00  0.00000000e+00  0.00000000e+00\n",
      "  0.00000000e+00  0.00000000e+00  0.00000000e+00  0.00000000e+00\n",
      "  0.00000000e+00  0.00000000e+00  0.00000000e+00  0.00000000e+00\n",
      "  0.00000000e+00  0.00000000e+00  0.00000000e+00  0.00000000e+00\n",
      "  0.00000000e+00  0.00000000e+00  0.00000000e+00  0.00000000e+00\n",
      "  0.00000000e+00  0.00000000e+00  0.00000000e+00  0.00000000e+00\n",
      "  0.00000000e+00  0.00000000e+00  0.00000000e+00  0.00000000e+00\n",
      "  0.00000000e+00  0.00000000e+00  0.00000000e+00  0.00000000e+00\n",
      "  0.00000000e+00  0.00000000e+00  0.00000000e+00  0.00000000e+00\n",
      "  0.00000000e+00  0.00000000e+00  0.00000000e+00  0.00000000e+00\n",
      "  0.00000000e+00  0.00000000e+00  0.00000000e+00  0.00000000e+00\n",
      "  0.00000000e+00  0.00000000e+00  0.00000000e+00  0.00000000e+00\n",
      "  0.00000000e+00  0.00000000e+00  0.00000000e+00  0.00000000e+00\n",
      "  0.00000000e+00  0.00000000e+00  0.00000000e+00  0.00000000e+00\n",
      "  8.56059680e-06  1.94035948e-06 -7.37438725e-04 -8.13403799e-03\n",
      " -1.86104473e-02 -1.87412865e-02 -1.87572508e-02 -1.90963542e-02\n",
      " -1.64039011e-02 -3.78191381e-03  3.30347316e-04  1.27655229e-05\n",
      "  0.00000000e+00  0.00000000e+00  0.00000000e+00  0.00000000e+00\n",
      "  0.00000000e+00  0.00000000e+00  0.00000000e+00  1.16421569e-04\n",
      "  1.20052179e-04 -1.40444581e-02 -2.84542484e-02  8.03826593e-02\n",
      "  2.66540339e-01  2.73853746e-01  2.78729541e-01  2.74293607e-01\n",
      "  2.24676403e-01  2.77562977e-02 -7.06315478e-03  2.34715414e-04\n",
      "  0.00000000e+00  0.00000000e+00  0.00000000e+00  0.00000000e+00\n",
      "  0.00000000e+00  0.00000000e+00  1.28335523e-17 -3.26286765e-04\n",
      " -1.38651604e-02  8.15651552e-02  3.82800381e-01  8.57849775e-01\n",
      "  1.00109761e+00  9.69710638e-01  9.30928598e-01  1.00383757e+00\n",
      "  9.64157356e-01  4.49256553e-01 -5.60408259e-03 -3.78319036e-03\n",
      "  0.00000000e+00  0.00000000e+00  0.00000000e+00  0.00000000e+00\n",
      "  5.10620915e-06  4.36410675e-04 -3.95509940e-03 -2.68537241e-02\n",
      "  1.00755014e-01  6.42031710e-01  1.03136838e+00  8.50968614e-01\n",
      "  5.43122379e-01  3.42599738e-01  2.68918777e-01  6.68374643e-01\n",
      "  1.01256958e+00  9.03795598e-01  1.04481574e-01 -1.66424973e-02\n",
      "  0.00000000e+00  0.00000000e+00  0.00000000e+00  0.00000000e+00\n",
      "  2.59875260e-05 -3.10606987e-03  7.52456076e-03  1.77539831e-01\n",
      "  7.92890120e-01  9.65626503e-01  4.63166079e-01  6.91720680e-02\n",
      " -3.64100526e-03 -4.12180405e-02 -5.01900656e-02  1.56102907e-01\n",
      "  9.01762651e-01  1.04748346e+00  1.51055252e-01 -2.16044665e-02\n",
      "  0.00000000e+00  0.00000000e+00  0.00000000e+00  5.87012352e-05\n",
      " -6.40931373e-04 -3.23305249e-02  2.78203465e-01  9.36720163e-01\n",
      "  1.04320956e+00  5.98003217e-01 -3.59409041e-03 -2.16751770e-02\n",
      " -4.81021923e-03  6.16566793e-05 -1.23773318e-02  1.55477482e-01\n",
      "  9.14867477e-01  9.20401348e-01  1.09173902e-01 -1.71058007e-02\n",
      "  0.00000000e+00  0.00000000e+00  1.56250000e-04 -4.27724104e-04\n",
      " -2.51466503e-02  1.30532561e-01  7.81664862e-01  1.02836583e+00\n",
      "  7.57137601e-01  2.84667194e-01  4.86865128e-03 -3.18688725e-03\n",
      "  0.00000000e+00  8.36492601e-04 -3.70751123e-02  4.52644165e-01\n",
      "  1.03180133e+00  5.39028101e-01 -2.43742611e-03 -4.80290033e-03\n",
      "  0.00000000e+00  0.00000000e+00 -7.03635621e-04 -1.27262443e-02\n",
      "  1.61706648e-01  7.79865383e-01  1.03676705e+00  8.04490400e-01\n",
      "  1.60586724e-01 -1.38173339e-02  2.14879493e-03 -2.12622549e-04\n",
      "  2.04248366e-04 -6.85907627e-03  4.31712963e-04  7.20680947e-01\n",
      "  8.48136063e-01  1.51383408e-01 -2.28404366e-02  1.98971950e-04\n",
      "  0.00000000e+00  0.00000000e+00 -9.40410539e-03  3.74520505e-02\n",
      "  6.94389110e-01  1.02844844e+00  1.01648066e+00  8.80488426e-01\n",
      "  3.92123945e-01 -1.74122413e-02 -1.20098039e-04  5.55215142e-05\n",
      " -2.23907271e-03 -2.76068376e-02  3.68645493e-01  9.36411169e-01\n",
      "  4.59006723e-01 -4.24701797e-02  1.17356610e-03  1.88929739e-05\n",
      "  0.00000000e+00  0.00000000e+00 -1.93511951e-02  1.29999794e-01\n",
      "  9.79821705e-01  9.41862388e-01  7.75147704e-01  8.73632241e-01\n",
      "  2.12778350e-01 -1.72353349e-02  0.00000000e+00  1.09937426e-03\n",
      " -2.61793751e-02  1.22872879e-01  8.30812662e-01  7.26501773e-01\n",
      "  5.24441863e-02 -6.18971913e-03  0.00000000e+00  0.00000000e+00\n",
      "  0.00000000e+00  0.00000000e+00 -9.36563862e-03  3.68349741e-02\n",
      "  6.99079299e-01  1.00293583e+00  6.05704402e-01  3.27299224e-01\n",
      " -3.22099249e-02 -4.83053002e-02 -4.34069138e-02 -5.75151144e-02\n",
      "  9.55674190e-02  7.26512627e-01  6.95366966e-01  1.47114481e-01\n",
      " -1.20048679e-02 -3.02798203e-04  0.00000000e+00  0.00000000e+00\n",
      "  0.00000000e+00  0.00000000e+00 -6.76572712e-04 -6.51415556e-03\n",
      "  1.17339359e-01  4.21948410e-01  9.93210937e-01  8.82013974e-01\n",
      "  7.45758734e-01  7.23874268e-01  7.23341725e-01  7.20020340e-01\n",
      "  8.45324959e-01  8.31859739e-01  6.88831870e-02 -2.77765012e-02\n",
      "  3.59136710e-04  7.14869281e-05  0.00000000e+00  0.00000000e+00\n",
      "  0.00000000e+00  0.00000000e+00  1.53186275e-04  3.17353553e-04\n",
      " -2.29167177e-02 -4.14402914e-03  3.87038450e-01  5.04583435e-01\n",
      "  7.74885876e-01  9.90037446e-01  1.00769478e+00  1.00851440e+00\n",
      "  7.37905042e-01  2.15455291e-01 -2.69624864e-02  1.32506127e-03\n",
      "  0.00000000e+00  0.00000000e+00  0.00000000e+00  0.00000000e+00\n",
      "  0.00000000e+00  0.00000000e+00  0.00000000e+00  0.00000000e+00\n",
      "  2.36366422e-04 -2.26031454e-03 -2.51994485e-02 -3.73889910e-02\n",
      "  6.62121228e-02  2.91134498e-01  3.23055726e-01  3.06260315e-01\n",
      "  8.76070942e-02 -2.50581917e-02  2.37438725e-04  0.00000000e+00\n",
      "  0.00000000e+00  0.00000000e+00  0.00000000e+00  0.00000000e+00\n",
      "  0.00000000e+00  0.00000000e+00  0.00000000e+00  0.00000000e+00\n",
      "  0.00000000e+00  0.00000000e+00  6.20939216e-18  6.72618320e-04\n",
      " -1.13151411e-02 -3.54641066e-02 -3.88214912e-02 -3.71077412e-02\n",
      " -1.33524928e-02  9.90964718e-04  4.89176960e-05  0.00000000e+00\n",
      "  0.00000000e+00  0.00000000e+00  0.00000000e+00  0.00000000e+00\n",
      "  0.00000000e+00  0.00000000e+00  0.00000000e+00  0.00000000e+00\n",
      "  0.00000000e+00  0.00000000e+00  0.00000000e+00  0.00000000e+00\n",
      "  0.00000000e+00  0.00000000e+00  0.00000000e+00  0.00000000e+00\n",
      "  0.00000000e+00  0.00000000e+00  0.00000000e+00  0.00000000e+00\n",
      "  0.00000000e+00  0.00000000e+00  0.00000000e+00  0.00000000e+00\n",
      "  0.00000000e+00  0.00000000e+00  0.00000000e+00  0.00000000e+00\n",
      "  0.00000000e+00  0.00000000e+00  0.00000000e+00  0.00000000e+00\n",
      "  0.00000000e+00  0.00000000e+00  0.00000000e+00  0.00000000e+00\n",
      "  0.00000000e+00  0.00000000e+00  0.00000000e+00  0.00000000e+00\n",
      "  0.00000000e+00  0.00000000e+00  0.00000000e+00  0.00000000e+00\n",
      "  0.00000000e+00]\n"
     ]
    }
   ],
   "source": [
    "print(add_bias(X, m)[0])"
   ]
  },
  {
   "cell_type": "code",
   "execution_count": 76,
   "metadata": {},
   "outputs": [
    {
     "data": {
      "text/plain": [
       "array([[-0.76100352, -1.21244498, -0.10187131, -2.36850085, -1.05778129,\n",
       "        -2.20823629,  0.56383834,  1.21105294,  2.21030997,  0.44456156,\n",
       "        -1.18244872,  1.04289112, -1.60558756,  1.30419943,  1.37175046,\n",
       "         1.74825095, -0.23365648, -1.52014483,  1.15324176,  0.10368082,\n",
       "        -0.37207719, -0.61530019, -0.1256836 , -2.27193038, -0.71836208,\n",
       "        -1.29690315],\n",
       "       [-0.61785176,  0.61559207, -1.26550639,  1.85745418, -0.91853319,\n",
       "        -0.05502589, -0.38589806,  1.29520853, -1.56843297, -0.97026419,\n",
       "        -2.18334895, -2.85033578, -2.07733086,  1.63163164,  0.3490229 ,\n",
       "         1.82789117, -2.44174379, -0.8563034 , -0.2982564 , -2.07947873,\n",
       "        -1.2933238 ,  0.89982032,  0.28306578,  2.31180525, -2.46444086,\n",
       "         1.45656548],\n",
       "       [-0.68934072, -1.94538151,  2.01360618, -3.12316188, -0.2361763 ,\n",
       "         1.38680947,  0.90982429, -1.54774416, -0.79830896, -0.65599834,\n",
       "         0.7353833 , -2.58593294,  0.47210839,  0.55349499,  2.51255453,\n",
       "        -2.4167454 , -1.63898627,  1.2027302 , -1.20245851, -1.83445959,\n",
       "        -1.88013027, -0.34056098,  0.23692483, -1.06137919,  1.02759232,\n",
       "        -0.47690832],\n",
       "       [-0.67832479,  0.46299226,  0.58492321, -0.1650184 ,  1.93264192,\n",
       "        -0.22965765, -1.84731492,  0.49011768,  1.07146054, -3.31905643,\n",
       "         1.54113507,  0.37371947, -0.86484681, -2.58273522,  0.97062447,\n",
       "        -0.51021867, -0.68427897, -1.64713607,  0.21153145, -0.27422442,\n",
       "         1.72599755,  1.32418658, -2.63984479, -0.08055871, -2.03510803,\n",
       "        -1.46123776],\n",
       "       [-0.59664339, -2.04481799,  2.05698407,  1.95100909,  0.17637699,\n",
       "        -2.16141218, -0.40394736,  1.80157532, -1.56278739, -0.25253004,\n",
       "         0.23586497,  0.71656699,  1.07689092, -0.35457279, -1.67743058,\n",
       "        -0.12939255, -0.67488849,  1.14066535,  1.32431237,  3.21158484,\n",
       "        -2.15888898, -2.60164082, -3.2226466 , -1.89612906, -0.87488068,\n",
       "         2.51038628],\n",
       "       [-0.87794907,  0.4344112 , -0.93161049,  0.18390778, -0.36078216,\n",
       "         0.61958137,  0.38624948, -2.65150343,  2.29710773, -2.08818098,\n",
       "        -1.86382323,  1.06057836,  0.77562146,  2.1346861 , -1.14973702,\n",
       "        -0.52081426,  0.99743429, -1.48309353, -2.3139424 ,  0.29517333,\n",
       "        -0.38704879, -2.20607697,  0.30702191, -1.17646114, -1.63462966,\n",
       "        -0.82467661],\n",
       "       [-0.52746527,  1.21564288, -1.50095981, -2.03195359, -1.52366734,\n",
       "        -2.43732079, -2.37570311, -1.39987277, -0.88735315, -0.63278873,\n",
       "         1.50450176, -1.580763  ,  0.58599217, -0.77540416,  0.94257331,\n",
       "         2.10919653,  0.54479132,  0.43773612, -1.28024228, -0.04360994,\n",
       "         1.4774997 , -1.13276949, -0.72846904,  0.04734716,  1.6574566 ,\n",
       "         1.68540944],\n",
       "       [-0.7490154 , -0.72249056, -3.15228173,  0.36577778,  0.19811362,\n",
       "        -0.73059946,  1.65263918, -2.300357  , -1.87468162,  0.98095387,\n",
       "        -1.58825159,  1.35434142,  2.17895331, -1.99239762, -2.00371362,\n",
       "        -0.388613  , -2.33992976, -2.91719062,  0.99398645, -2.70476768,\n",
       "        -1.27139772,  1.86091461, -1.20519404, -0.38014194,  0.7087181 ,\n",
       "        -2.11014003],\n",
       "       [-0.6665468 ,  0.53601845,  1.30307573, -1.03372714, -4.03084753,\n",
       "         0.58173469, -2.65717902,  0.80379994, -1.09241928,  2.49910058,\n",
       "         0.362008  ,  0.66195337, -0.92160534, -0.83123666, -2.00200952,\n",
       "        -2.94897501,  0.64564202, -1.10114694,  0.74510309,  0.58506717,\n",
       "        -1.99545251,  0.62591105,  1.80596103, -0.22309315, -1.40442136,\n",
       "        -2.1319153 ],\n",
       "       [-0.46089119, -1.43944954, -1.21809509,  0.71093011,  0.45216919,\n",
       "        -0.35953381,  0.62284954, -0.67005297, -0.7069138 ,  0.06311351,\n",
       "        -1.23199074, -1.74645233, -2.71960897, -2.21437178, -1.69307505,\n",
       "        -0.90927394,  0.87852311,  1.18664814, -1.87041262,  0.39796295,\n",
       "         1.72113872, -1.36934055,  0.8580668 , -0.24779579,  1.28009118,\n",
       "        -1.32752042]])"
      ]
     },
     "execution_count": 76,
     "metadata": {},
     "output_type": "execute_result"
    }
   ],
   "source": [
    "theta2"
   ]
  },
  {
   "cell_type": "code",
   "execution_count": 77,
   "metadata": {},
   "outputs": [
    {
     "data": {
      "text/plain": [
       "(10, 26)"
      ]
     },
     "execution_count": 77,
     "metadata": {},
     "output_type": "execute_result"
    }
   ],
   "source": [
    "theta2.shape"
   ]
  },
  {
   "cell_type": "code",
   "execution_count": 78,
   "metadata": {},
   "outputs": [
    {
     "data": {
      "text/plain": [
       "(25, 401)"
      ]
     },
     "execution_count": 78,
     "metadata": {},
     "output_type": "execute_result"
    }
   ],
   "source": [
    "theta1.shape"
   ]
  },
  {
   "cell_type": "code",
   "execution_count": 142,
   "metadata": {},
   "outputs": [],
   "source": [
    "def fwd_prop(X, theta1, theta2):\n",
    "    '''\n",
    "        Implementing forward propogation\n",
    "    '''\n",
    "    X_b = add_bias(X, len(X))\n",
    "    hx1 = (np.dot(X_b, theta1.T))\n",
    "    act1 = sigmoid(hx1)\n",
    "    act1_b = add_bias(act1, len(act1))\n",
    "    hx2 = np.dot(act1_b, theta2.T)\n",
    "    hx = sigmoid(hx2)\n",
    "    return hx\n",
    "\n",
    "y_hat = fwd_prop(X, theta1, theta2)"
   ]
  },
  {
   "cell_type": "code",
   "execution_count": 126,
   "metadata": {},
   "outputs": [],
   "source": [
    "def prediction(X, theta1, theta2, Y):\n",
    "    '''\n",
    "        Retruns the predicted number along with the accuracy.\n",
    "        Args: X -> feature matrix\n",
    "              theta1 -> parameter vec 1\n",
    "              theta2 -> parameter vec 2\n",
    "              Y -> output vector\n",
    "        Output: array of predictions, accuracy\n",
    "    '''\n",
    "    \n",
    "    n = fwd_prop(X, theta1, theta2)\n",
    "    pred = n.argmax(axis=1) + 1\n",
    "    ar = pred.reshape((5000, 1))\n",
    "    return ar, np.sum(ar == Y) * 100/5000\n"
   ]
  },
  {
   "cell_type": "code",
   "execution_count": 136,
   "metadata": {},
   "outputs": [],
   "source": [
    "x, y = prediction(X, theta1, theta2, Y)"
   ]
  },
  {
   "cell_type": "code",
   "execution_count": 175,
   "metadata": {},
   "outputs": [],
   "source": [
    "def cost_func(X, Y_vec, y_hat, param):\n",
    "    m = len(X)\n",
    "    h1 = np.log(y_hat)\n",
    "    h2 = np.log(1-y_hat)\n",
    "    J = -np.sum(np.sum(Y_vec * h1) + np.sum(1-Y_vec * h2))/m\n",
    "    \n",
    "    \n",
    "    return J\n",
    "    "
   ]
  },
  {
   "cell_type": "code",
   "execution_count": 176,
   "metadata": {},
   "outputs": [
    {
     "data": {
      "text/plain": [
       "-8.192724052178024"
      ]
     },
     "execution_count": 176,
     "metadata": {},
     "output_type": "execute_result"
    }
   ],
   "source": [
    "cost_func(X, Y_vec, y_hat, param)"
   ]
  },
  {
   "cell_type": "code",
   "execution_count": 145,
   "metadata": {},
   "outputs": [
    {
     "data": {
      "text/plain": [
       "(5000, 1, 11)"
      ]
     },
     "execution_count": 145,
     "metadata": {},
     "output_type": "execute_result"
    }
   ],
   "source": [
    "Y_vec.shape"
   ]
  },
  {
   "cell_type": "code",
   "execution_count": 108,
   "metadata": {},
   "outputs": [
    {
     "data": {
      "text/plain": [
       "(5000,)"
      ]
     },
     "execution_count": 108,
     "metadata": {},
     "output_type": "execute_result"
    }
   ],
   "source": [
    "pred.shape"
   ]
  },
  {
   "cell_type": "code",
   "execution_count": 87,
   "metadata": {},
   "outputs": [
    {
     "data": {
      "text/plain": [
       "array([1.12661530e-04, 1.74127856e-03, 2.52696959e-03, 1.84032321e-05,\n",
       "       9.36263860e-03, 3.99270267e-03, 5.51517524e-03, 4.01468105e-04,\n",
       "       6.48072305e-03, 9.95734012e-01])"
      ]
     },
     "execution_count": 87,
     "metadata": {},
     "output_type": "execute_result"
    }
   ],
   "source": [
    "n[0]"
   ]
  },
  {
   "cell_type": "code",
   "execution_count": null,
   "metadata": {},
   "outputs": [],
   "source": []
  },
  {
   "cell_type": "code",
   "execution_count": null,
   "metadata": {},
   "outputs": [],
   "source": []
  },
  {
   "cell_type": "code",
   "execution_count": null,
   "metadata": {},
   "outputs": [],
   "source": []
  },
  {
   "cell_type": "code",
   "execution_count": null,
   "metadata": {},
   "outputs": [],
   "source": []
  },
  {
   "cell_type": "code",
   "execution_count": null,
   "metadata": {},
   "outputs": [],
   "source": []
  },
  {
   "cell_type": "code",
   "execution_count": null,
   "metadata": {},
   "outputs": [],
   "source": []
  },
  {
   "cell_type": "code",
   "execution_count": null,
   "metadata": {},
   "outputs": [],
   "source": []
  },
  {
   "cell_type": "code",
   "execution_count": null,
   "metadata": {},
   "outputs": [],
   "source": []
  },
  {
   "cell_type": "code",
   "execution_count": null,
   "metadata": {},
   "outputs": [],
   "source": []
  }
 ],
 "metadata": {
  "kernelspec": {
   "display_name": "Python 3",
   "language": "python",
   "name": "python3"
  },
  "language_info": {
   "codemirror_mode": {
    "name": "ipython",
    "version": 3
   },
   "file_extension": ".py",
   "mimetype": "text/x-python",
   "name": "python",
   "nbconvert_exporter": "python",
   "pygments_lexer": "ipython3",
   "version": "3.7.3"
  }
 },
 "nbformat": 4,
 "nbformat_minor": 2
}
